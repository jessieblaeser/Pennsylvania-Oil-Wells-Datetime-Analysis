{
 "cells": [
  {
   "cell_type": "markdown",
   "id": "fc935012",
   "metadata": {},
   "source": [
    "Data comes from Pensylvania's [Department of Environmental Protection](https://www.dep.pa.gov/DataandTools/Reports/Oil%20and%20Gas%20Reports/pages/default.aspx), specifically their [permits issued database](http://cedatareporting.pa.gov/Reportserver/Pages/ReportViewer.aspx?/Public/DEP/OG/SSRS/Permits_Issued_Detail) for a request from 1969 to 11/23/2021."
   ]
  },
  {
   "cell_type": "markdown",
   "id": "aa79cde9",
   "metadata": {},
   "source": [
    "# Reading in and cleaning\n",
    "\n",
    "## Read in the permits database"
   ]
  },
  {
   "cell_type": "code",
   "execution_count": 3,
   "id": "a175e7ff",
   "metadata": {},
   "outputs": [],
   "source": [
    "import pandas as pd \n",
    "import numpy as np\n",
    "\n",
    "df = pd.read_csv(\"Permits_Issued_Detail.csv\")"
   ]
  },
  {
   "cell_type": "markdown",
   "id": "c0b1da1e",
   "metadata": {},
   "source": [
    "## Make sure you can see all of the columns!\n",
    "\n",
    "I didn't remove extra ones for you this time! It's a trick that involves `pd.set_option`."
   ]
  },
  {
   "cell_type": "code",
   "execution_count": 10,
   "id": "7a630d23",
   "metadata": {},
   "outputs": [
    {
     "data": {
      "text/html": [
       "<div>\n",
       "<style scoped>\n",
       "    .dataframe tbody tr th:only-of-type {\n",
       "        vertical-align: middle;\n",
       "    }\n",
       "\n",
       "    .dataframe tbody tr th {\n",
       "        vertical-align: top;\n",
       "    }\n",
       "\n",
       "    .dataframe thead th {\n",
       "        text-align: right;\n",
       "    }\n",
       "</style>\n",
       "<table border=\"1\" class=\"dataframe\">\n",
       "  <thead>\n",
       "    <tr style=\"text-align: right;\">\n",
       "      <th></th>\n",
       "      <th>region</th>\n",
       "      <th>county</th>\n",
       "      <th>municipality</th>\n",
       "      <th>permit_issued_date</th>\n",
       "      <th>operator</th>\n",
       "      <th>application_type</th>\n",
       "      <th>auth_type_description</th>\n",
       "      <th>well_api</th>\n",
       "      <th>unconventional</th>\n",
       "      <th>configuration</th>\n",
       "      <th>well_type</th>\n",
       "      <th>farm_name</th>\n",
       "      <th>spud_date</th>\n",
       "      <th>latitude_degrees</th>\n",
       "      <th>longitude_degrees</th>\n",
       "      <th>latitude_decimal</th>\n",
       "      <th>longitude_decimal</th>\n",
       "      <th>ogo_num</th>\n",
       "      <th>operator_address</th>\n",
       "      <th>city</th>\n",
       "      <th>state</th>\n",
       "      <th>zip_code</th>\n",
       "      <th>authorization_id</th>\n",
       "      <th>client_id</th>\n",
       "      <th>prmry_fac_id</th>\n",
       "    </tr>\n",
       "  </thead>\n",
       "  <tbody>\n",
       "    <tr>\n",
       "      <th>0</th>\n",
       "      <td>EP DOGO SWDO Dstr Off</td>\n",
       "      <td>Allegheny</td>\n",
       "      <td>Aleppo Twp</td>\n",
       "      <td>2011-03-29</td>\n",
       "      <td>AMER NATURAL RESOURCES LLC</td>\n",
       "      <td>NEW</td>\n",
       "      <td>Drill &amp; Operate Well Permit</td>\n",
       "      <td>003-22174</td>\n",
       "      <td>No</td>\n",
       "      <td>Vertical Well</td>\n",
       "      <td>OIL</td>\n",
       "      <td>MERLE MINICK UNIT 2</td>\n",
       "      <td>04/04/2011</td>\n",
       "      <td>40º 31' 42.97''</td>\n",
       "      <td>-80º 7' 18.74''</td>\n",
       "      <td>40.528603</td>\n",
       "      <td>-80.121872</td>\n",
       "      <td>OGO-38150</td>\n",
       "      <td>PO BOX 306\\n520 W PARKWOOD DR\\n</td>\n",
       "      <td>RURAL VALLEY</td>\n",
       "      <td>PA</td>\n",
       "      <td>16249-0306</td>\n",
       "      <td>868846</td>\n",
       "      <td>233217</td>\n",
       "      <td>739460</td>\n",
       "    </tr>\n",
       "    <tr>\n",
       "      <th>1</th>\n",
       "      <td>EP DOGO SWDO Dstr Off</td>\n",
       "      <td>Allegheny</td>\n",
       "      <td>Aleppo Twp</td>\n",
       "      <td>2011-04-04</td>\n",
       "      <td>AMER NATURAL RESOURCES LLC</td>\n",
       "      <td>NEW</td>\n",
       "      <td>Drill &amp; Operate Well Permit</td>\n",
       "      <td>003-22175</td>\n",
       "      <td>No</td>\n",
       "      <td>Vertical Well</td>\n",
       "      <td>OIL</td>\n",
       "      <td>MERLE MINICK UNIT 1</td>\n",
       "      <td>04/11/2011</td>\n",
       "      <td>40º 32' 0.71''</td>\n",
       "      <td>-80º 7' 22.28''</td>\n",
       "      <td>40.533531</td>\n",
       "      <td>-80.122856</td>\n",
       "      <td>OGO-38150</td>\n",
       "      <td>PO BOX 306\\n520 W PARKWOOD DR\\n</td>\n",
       "      <td>RURAL VALLEY</td>\n",
       "      <td>PA</td>\n",
       "      <td>16249-0306</td>\n",
       "      <td>869305</td>\n",
       "      <td>233217</td>\n",
       "      <td>739552</td>\n",
       "    </tr>\n",
       "    <tr>\n",
       "      <th>2</th>\n",
       "      <td>EP DOGO SWDO Dstr Off</td>\n",
       "      <td>Allegheny</td>\n",
       "      <td>Avalon Boro</td>\n",
       "      <td>1986-09-05</td>\n",
       "      <td>UNKNOWN OPR</td>\n",
       "      <td>NEW</td>\n",
       "      <td>Drill &amp; Operate Well Permit</td>\n",
       "      <td>003-21196</td>\n",
       "      <td>No</td>\n",
       "      <td>Vertical Well</td>\n",
       "      <td>GAS</td>\n",
       "      <td>HARTMAN/BEEDLE 1</td>\n",
       "      <td>01/01/1800</td>\n",
       "      <td>40º 29' 46.23''</td>\n",
       "      <td>-80º 3' 50.059''</td>\n",
       "      <td>40.496175</td>\n",
       "      <td>-80.063905</td>\n",
       "      <td>OGO-99999</td>\n",
       "      <td>UNKNOWN ADDL ADDRESS\\n</td>\n",
       "      <td>UNKNOWN</td>\n",
       "      <td>PA</td>\n",
       "      <td>17101</td>\n",
       "      <td>52192</td>\n",
       "      <td>40263</td>\n",
       "      <td>7714</td>\n",
       "    </tr>\n",
       "    <tr>\n",
       "      <th>3</th>\n",
       "      <td>EP DOGO SWDO Dstr Off</td>\n",
       "      <td>Allegheny</td>\n",
       "      <td>Bethel Park Boro</td>\n",
       "      <td>1971-09-30</td>\n",
       "      <td>PEOPLES NATURAL GAS CO LLC</td>\n",
       "      <td>NEW</td>\n",
       "      <td>Drill &amp; Operate Well Permit</td>\n",
       "      <td>003-20782</td>\n",
       "      <td>No</td>\n",
       "      <td>Vertical Well</td>\n",
       "      <td>GAS</td>\n",
       "      <td>WALTER PHILIPS ETAL 974</td>\n",
       "      <td>01/31/1914</td>\n",
       "      <td>40º 17' 29.09''</td>\n",
       "      <td>-80º 2' 35.614''</td>\n",
       "      <td>40.291415</td>\n",
       "      <td>-80.043226</td>\n",
       "      <td>OGO-39243</td>\n",
       "      <td>1201 PITT ST\\n</td>\n",
       "      <td>PITTSBURGH</td>\n",
       "      <td>PA</td>\n",
       "      <td>15221-2029</td>\n",
       "      <td>51882</td>\n",
       "      <td>189839</td>\n",
       "      <td>7453</td>\n",
       "    </tr>\n",
       "    <tr>\n",
       "      <th>4</th>\n",
       "      <td>EP DOGO SWDO Dstr Off</td>\n",
       "      <td>Allegheny</td>\n",
       "      <td>Bethel Park Boro</td>\n",
       "      <td>1976-04-06</td>\n",
       "      <td>PEOPLES NATURAL GAS CO LLC</td>\n",
       "      <td>NEW</td>\n",
       "      <td>Drill &amp; Operate Well Permit</td>\n",
       "      <td>003-20892</td>\n",
       "      <td>No</td>\n",
       "      <td>Vertical Well</td>\n",
       "      <td>GAS</td>\n",
       "      <td>JAS B PHILIPS SR 1165</td>\n",
       "      <td>08/04/1916</td>\n",
       "      <td>40º 17' 31.12''</td>\n",
       "      <td>-80º 2' 39.88''</td>\n",
       "      <td>40.291978</td>\n",
       "      <td>-80.044411</td>\n",
       "      <td>OGO-39243</td>\n",
       "      <td>1201 PITT ST\\n</td>\n",
       "      <td>PITTSBURGH</td>\n",
       "      <td>PA</td>\n",
       "      <td>15221-2029</td>\n",
       "      <td>51947</td>\n",
       "      <td>189839</td>\n",
       "      <td>7509</td>\n",
       "    </tr>\n",
       "  </tbody>\n",
       "</table>\n",
       "</div>"
      ],
      "text/plain": [
       "                  region     county      municipality permit_issued_date  \\\n",
       "0  EP DOGO SWDO Dstr Off  Allegheny        Aleppo Twp         2011-03-29   \n",
       "1  EP DOGO SWDO Dstr Off  Allegheny        Aleppo Twp         2011-04-04   \n",
       "2  EP DOGO SWDO Dstr Off  Allegheny       Avalon Boro         1986-09-05   \n",
       "3  EP DOGO SWDO Dstr Off  Allegheny  Bethel Park Boro         1971-09-30   \n",
       "4  EP DOGO SWDO Dstr Off  Allegheny  Bethel Park Boro         1976-04-06   \n",
       "\n",
       "                     operator application_type        auth_type_description  \\\n",
       "0  AMER NATURAL RESOURCES LLC              NEW  Drill & Operate Well Permit   \n",
       "1  AMER NATURAL RESOURCES LLC              NEW  Drill & Operate Well Permit   \n",
       "2                 UNKNOWN OPR              NEW  Drill & Operate Well Permit   \n",
       "3  PEOPLES NATURAL GAS CO LLC              NEW  Drill & Operate Well Permit   \n",
       "4  PEOPLES NATURAL GAS CO LLC              NEW  Drill & Operate Well Permit   \n",
       "\n",
       "    well_api unconventional  configuration well_type                farm_name  \\\n",
       "0  003-22174             No  Vertical Well       OIL      MERLE MINICK UNIT 2   \n",
       "1  003-22175             No  Vertical Well       OIL      MERLE MINICK UNIT 1   \n",
       "2  003-21196             No  Vertical Well       GAS         HARTMAN/BEEDLE 1   \n",
       "3  003-20782             No  Vertical Well       GAS  WALTER PHILIPS ETAL 974   \n",
       "4  003-20892             No  Vertical Well       GAS    JAS B PHILIPS SR 1165   \n",
       "\n",
       "    spud_date latitude_degrees longitude_degrees  latitude_decimal  \\\n",
       "0  04/04/2011  40º 31' 42.97''   -80º 7' 18.74''         40.528603   \n",
       "1  04/11/2011   40º 32' 0.71''   -80º 7' 22.28''         40.533531   \n",
       "2  01/01/1800  40º 29' 46.23''  -80º 3' 50.059''         40.496175   \n",
       "3  01/31/1914  40º 17' 29.09''  -80º 2' 35.614''         40.291415   \n",
       "4  08/04/1916  40º 17' 31.12''   -80º 2' 39.88''         40.291978   \n",
       "\n",
       "   longitude_decimal    ogo_num                 operator_address  \\\n",
       "0         -80.121872  OGO-38150  PO BOX 306\\n520 W PARKWOOD DR\\n   \n",
       "1         -80.122856  OGO-38150  PO BOX 306\\n520 W PARKWOOD DR\\n   \n",
       "2         -80.063905  OGO-99999           UNKNOWN ADDL ADDRESS\\n   \n",
       "3         -80.043226  OGO-39243                   1201 PITT ST\\n   \n",
       "4         -80.044411  OGO-39243                   1201 PITT ST\\n   \n",
       "\n",
       "           city state    zip_code  authorization_id  client_id  prmry_fac_id  \n",
       "0  RURAL VALLEY    PA  16249-0306            868846     233217        739460  \n",
       "1  RURAL VALLEY    PA  16249-0306            869305     233217        739552  \n",
       "2       UNKNOWN    PA       17101             52192      40263          7714  \n",
       "3    PITTSBURGH    PA  15221-2029             51882     189839          7453  \n",
       "4    PITTSBURGH    PA  15221-2029             51947     189839          7509  "
      ]
     },
     "execution_count": 10,
     "metadata": {},
     "output_type": "execute_result"
    }
   ],
   "source": [
    "df.columns = df.columns.str.lower()\n",
    "df.columns\n",
    "pd.set_option(\"display.max_columns\", None)\n",
    "df.head()"
   ]
  },
  {
   "cell_type": "markdown",
   "id": "170f9963",
   "metadata": {},
   "source": [
    "## Speaking of columns, is anything a datetime?"
   ]
  },
  {
   "cell_type": "code",
   "execution_count": 12,
   "id": "14cc463b",
   "metadata": {},
   "outputs": [
    {
     "name": "stdout",
     "output_type": "stream",
     "text": [
      "<class 'pandas.core.frame.DataFrame'>\n",
      "RangeIndex: 212471 entries, 0 to 212470\n",
      "Data columns (total 25 columns):\n",
      " #   Column                 Non-Null Count   Dtype  \n",
      "---  ------                 --------------   -----  \n",
      " 0   region                 212471 non-null  object \n",
      " 1   county                 212471 non-null  object \n",
      " 2   municipality           212471 non-null  object \n",
      " 3   permit_issued_date     212471 non-null  object \n",
      " 4   operator               212471 non-null  object \n",
      " 5   application_type       212471 non-null  object \n",
      " 6   auth_type_description  212471 non-null  object \n",
      " 7   well_api               212471 non-null  object \n",
      " 8   unconventional         212471 non-null  object \n",
      " 9   configuration          212471 non-null  object \n",
      " 10  well_type              212471 non-null  object \n",
      " 11  farm_name              212471 non-null  object \n",
      " 12  spud_date              151219 non-null  object \n",
      " 13  latitude_degrees       166542 non-null  object \n",
      " 14  longitude_degrees      166542 non-null  object \n",
      " 15  latitude_decimal       166542 non-null  float64\n",
      " 16  longitude_decimal      166542 non-null  float64\n",
      " 17  ogo_num                212471 non-null  object \n",
      " 18  operator_address       212466 non-null  object \n",
      " 19  city                   212466 non-null  object \n",
      " 20  state                  212466 non-null  object \n",
      " 21  zip_code               212466 non-null  object \n",
      " 22  authorization_id       212471 non-null  int64  \n",
      " 23  client_id              212471 non-null  int64  \n",
      " 24  prmry_fac_id           212471 non-null  int64  \n",
      "dtypes: float64(2), int64(3), object(20)\n",
      "memory usage: 40.5+ MB\n"
     ]
    }
   ],
   "source": [
    "df.info()\n",
    "#not to start!\n",
    "# but permit_issued_date and spud_date could potentially be converted "
   ]
  },
  {
   "cell_type": "markdown",
   "id": "17eb547a",
   "metadata": {},
   "source": [
    "## I would like the permit issued date to be a datetime\n",
    "\n",
    "You can do this either right now or through `.read_csv`, either way is fine. It isn't a big dataset, so there's no downside to doing it a slower way!"
   ]
  },
  {
   "cell_type": "code",
   "execution_count": 13,
   "id": "2310039c",
   "metadata": {},
   "outputs": [
    {
     "data": {
      "text/plain": [
       "0         2011-03-29\n",
       "1         2011-04-04\n",
       "2         1986-09-05\n",
       "3         1971-09-30\n",
       "4         1976-04-06\n",
       "             ...    \n",
       "212466    2020-05-12\n",
       "212467    2020-06-16\n",
       "212468    2020-06-16\n",
       "212469    2021-04-15\n",
       "212470    2021-04-15\n",
       "Name: permit_issued_date, Length: 212471, dtype: object"
      ]
     },
     "execution_count": 13,
     "metadata": {},
     "output_type": "execute_result"
    }
   ],
   "source": [
    "df.permit_issued_date\n"
   ]
  },
  {
   "cell_type": "code",
   "execution_count": 16,
   "id": "31ad120e",
   "metadata": {},
   "outputs": [
    {
     "data": {
      "text/plain": [
       "0        2011-03-29\n",
       "1        2011-04-04\n",
       "2        1986-09-05\n",
       "3        1971-09-30\n",
       "4        1976-04-06\n",
       "            ...    \n",
       "212466   2020-05-12\n",
       "212467   2020-06-16\n",
       "212468   2020-06-16\n",
       "212469   2021-04-15\n",
       "212470   2021-04-15\n",
       "Name: permit_issued_date, Length: 212471, dtype: datetime64[ns]"
      ]
     },
     "execution_count": 16,
     "metadata": {},
     "output_type": "execute_result"
    }
   ],
   "source": [
    "pd.to_datetime(df.permit_issued_date, errors=\"coerce\", format=\"%Y-%m-%d\")\n",
    "df.permit_issued_date = pd.to_datetime(df.permit_issued_date, errors=\"coerce\", format=\"%Y-%m-%d\")\n",
    "df.permit_issued_date"
   ]
  },
  {
   "cell_type": "markdown",
   "id": "ed457abe",
   "metadata": {},
   "source": [
    "# Looking at issue dates\n",
    "\n",
    "## When was the earlier permit in this dataset issued?"
   ]
  },
  {
   "cell_type": "code",
   "execution_count": 18,
   "id": "c087a9b7",
   "metadata": {},
   "outputs": [
    {
     "data": {
      "text/plain": [
       "56672    1969-01-02\n",
       "136718   1969-01-02\n",
       "136719   1969-01-02\n",
       "136715   1969-01-02\n",
       "136714   1969-01-02\n",
       "            ...    \n",
       "64259    2021-11-18\n",
       "64258    2021-11-18\n",
       "64256    2021-11-18\n",
       "64260    2021-11-18\n",
       "64257    2021-11-18\n",
       "Name: permit_issued_date, Length: 212471, dtype: datetime64[ns]"
      ]
     },
     "execution_count": 18,
     "metadata": {},
     "output_type": "execute_result"
    }
   ],
   "source": [
    "df.permit_issued_date.sort_values()\n",
    "#1969-01-02"
   ]
  },
  {
   "cell_type": "markdown",
   "id": "876d6249",
   "metadata": {},
   "source": [
    "## What year has the most permits issued?\n",
    "\n",
    "I wouldn't expect this to be seasonal, but who knows - it gets pretty cold in Pennsylvania in the winter, so maybe everyone just sleeps all the time?"
   ]
  },
  {
   "cell_type": "code",
   "execution_count": 20,
   "id": "862dd45b",
   "metadata": {},
   "outputs": [
    {
     "data": {
      "text/plain": [
       "1984    13827\n",
       "1981     9483\n",
       "1982     9266\n",
       "1983     8003\n",
       "2008     7974\n",
       "1985     7839\n",
       "1980     7618\n",
       "2006     7345\n",
       "2007     7299\n",
       "2010     6597\n",
       "2009     6241\n",
       "2005     6045\n",
       "2011     5745\n",
       "1978     5178\n",
       "1979     4991\n",
       "2013     4612\n",
       "2004     4602\n",
       "2014     4451\n",
       "2012     4217\n",
       "1976     3881\n",
       "2003     3830\n",
       "1977     3828\n",
       "1973     3669\n",
       "1986     3483\n",
       "1972     3384\n",
       "1975     3354\n",
       "1974     3272\n",
       "2002     3193\n",
       "2001     3011\n",
       "1969     2781\n",
       "1970     2756\n",
       "1971     2642\n",
       "2015     2525\n",
       "1987     2452\n",
       "2000     2290\n",
       "2017     2225\n",
       "2018     2149\n",
       "1988     2085\n",
       "1991     2003\n",
       "1990     1993\n",
       "1998     1988\n",
       "1999     1981\n",
       "1997     1878\n",
       "1996     1820\n",
       "1989     1797\n",
       "2019     1705\n",
       "1992     1677\n",
       "1994     1658\n",
       "2016     1482\n",
       "1993     1221\n",
       "1995     1207\n",
       "2020     1020\n",
       "2021      898\n",
       "Name: permit_issued_date, dtype: int64"
      ]
     },
     "execution_count": 20,
     "metadata": {},
     "output_type": "execute_result"
    }
   ],
   "source": [
    "df.permit_issued_date.dt.year.value_counts()"
   ]
  },
  {
   "cell_type": "markdown",
   "id": "924b2c5a",
   "metadata": {},
   "source": [
    "## **Graph permits issued by month**\n",
    "\n",
    "Make sure the x axis is in the right order!"
   ]
  },
  {
   "cell_type": "code",
   "execution_count": 25,
   "id": "9802b849",
   "metadata": {},
   "outputs": [
    {
     "data": {
      "text/plain": [
       "[Text(1, 0, 'Jan'),\n",
       " Text(2, 0, 'Feb'),\n",
       " Text(3, 0, 'March'),\n",
       " Text(4, 0, 'April'),\n",
       " Text(5, 0, 'May'),\n",
       " Text(6, 0, 'June'),\n",
       " Text(7, 0, 'July'),\n",
       " Text(8, 0, 'Aug'),\n",
       " Text(9, 0, 'Sept'),\n",
       " Text(10, 0, 'Oct'),\n",
       " Text(11, 0, 'Nov'),\n",
       " Text(12, 0, 'Dec')]"
      ]
     },
     "execution_count": 25,
     "metadata": {},
     "output_type": "execute_result"
    },
    {
     "data": {
      "image/png": "[encoded data removed]",
      "text/plain": [
       "<Figure size 432x288 with 1 Axes>"
      ]
     },
     "metadata": {
      "needs_background": "light"
     },
     "output_type": "display_data"
    }
   ],
   "source": [
    "ax = df.permit_issued_date.dt.month.value_counts().sort_index().plot()\n",
    "ax.set_xticks([1,2,3,4,5,6,7,8,9,10,11,12])\n",
    "ax.set_xticklabels(['Jan', 'Feb', 'March', 'April', 'May', 'June', 'July', 'Aug', 'Sept', 'Oct', 'Nov', 'Dec'])"
   ]
  },
  {
   "cell_type": "markdown",
   "id": "23782870",
   "metadata": {},
   "source": [
    "## What's the difference between doing `.plot()` and `.plot(kind='bar')`? Which one do you feel is a better representation of the data?"
   ]
  },
  {
   "cell_type": "code",
   "execution_count": null,
   "id": "b72e3449",
   "metadata": {},
   "outputs": [],
   "source": [
    "#.plot() automatically gives you a line graph, whereas .plot(kind=bar) will give you a bar graph \n",
    "#I like a bar graph for this data bc line graph implies change over time, whereas bar shows count per x-axis value\n",
    "# since we are counting permits issued by month, a bar graph will better represent # of permits grouped into months\n"
   ]
  },
  {
   "cell_type": "code",
   "execution_count": 27,
   "id": "1895d7fa",
   "metadata": {},
   "outputs": [
    {
     "data": {
      "text/plain": [
       "[Text(0, 0, 'Jan'),\n",
       " Text(1, 0, 'Feb'),\n",
       " Text(2, 0, 'March'),\n",
       " Text(3, 0, 'April'),\n",
       " Text(4, 0, 'May'),\n",
       " Text(5, 0, 'June'),\n",
       " Text(6, 0, 'July'),\n",
       " Text(7, 0, 'Aug'),\n",
       " Text(8, 0, 'Sept'),\n",
       " Text(9, 0, 'Oct'),\n",
       " Text(10, 0, 'Nov'),\n",
       " Text(11, 0, 'Dec')]"
      ]
     },
     "execution_count": 27,
     "metadata": {},
     "output_type": "execute_result"
    },
    {
     "data": {
      "image/png": "[encoded data removed]",
      "text/plain": [
       "<Figure size 432x288 with 1 Axes>"
      ]
     },
     "metadata": {
      "needs_background": "light"
     },
     "output_type": "display_data"
    }
   ],
   "source": [
    "ax = df.permit_issued_date.dt.month.value_counts().sort_index().plot(kind='bar')\n",
    "ax.set_xticks([0,1,2,3,4,5,6,7,8,9,10,11])\n",
    "ax.set_xticklabels(['Jan', 'Feb', 'March', 'April', 'May', 'June', 'July', 'Aug', 'Sept', 'Oct', 'Nov', 'Dec'])\n",
    "#QUESTION: why does bar graph require starting labels with [0] and line graph starts at [1]?"
   ]
  },
  {
   "cell_type": "code",
   "execution_count": null,
   "id": "61c33c41",
   "metadata": {},
   "outputs": [],
   "source": [
    "#hmm...but, that said, the bar graph actually feels less informative w/o a yaxis limit "
   ]
  },
  {
   "cell_type": "markdown",
   "id": "68dc9ae7",
   "metadata": {},
   "source": [
    "### Bonus trick: axis labeling\n",
    "\n",
    "**If you want to make your graphs look a little nicer, you can use some manual effort and make it happen!** In matplotlib, `.set_xticks` will show what tick marks to put on the bottom axis, and `set_xticklabels` will give them names. So for example, the code below will plot January, June and December on your graph.\n",
    "\n",
    "```python\n",
    "ax = df......plot()\n",
    "ax.set_xticks([1, 6, 12])\n",
    "ax.set_xticklabels(['Jan', 'June', 'Dec'])\n",
    "```\n",
    "\n",
    "Compare the results for `.plot()` vs `.plot(kind='bar')`. In theory the difference makes sense because bar plots are for categorical data, but speaking honestly: _matplotlib is a nightmare._"
   ]
  },
  {
   "cell_type": "code",
   "execution_count": null,
   "id": "c80abf2c",
   "metadata": {},
   "outputs": [],
   "source": [
    "# Compared above and YES couldn't agree more!"
   ]
  },
  {
   "cell_type": "markdown",
   "id": "b0b8315f",
   "metadata": {},
   "source": [
    "# Permits over time\n",
    "\n",
    "## Graph permits issued by week (W), month (M) and quarter (Q)\n",
    "\n",
    "Which is the best representation of the trend in issued permits?"
   ]
  },
  {
   "cell_type": "code",
   "execution_count": 28,
   "id": "17331647",
   "metadata": {},
   "outputs": [
    {
     "data": {
      "text/plain": [
       "<AxesSubplot:xlabel='permit_issued_date'>"
      ]
     },
     "execution_count": 28,
     "metadata": {},
     "output_type": "execute_result"
    },
    {
     "data": {
      "image/png": "[encoded data removed]",
      "text/plain": [
       "<Figure size 432x288 with 1 Axes>"
      ]
     },
     "metadata": {
      "needs_background": "light"
     },
     "output_type": "display_data"
    }
   ],
   "source": [
    "df.resample('W', on='permit_issued_date').size().plot()\n",
    "\n",
    "#homicides_df.resample('M', on='incident_datetime').size().plot()"
   ]
  },
  {
   "cell_type": "code",
   "execution_count": 29,
   "id": "88c8c4e3",
   "metadata": {},
   "outputs": [
    {
     "data": {
      "text/plain": [
       "<AxesSubplot:xlabel='permit_issued_date'>"
      ]
     },
     "execution_count": 29,
     "metadata": {},
     "output_type": "execute_result"
    },
    {
     "data": {
      "image/png": "[encoded data removed]",
      "text/plain": [
       "<Figure size 432x288 with 1 Axes>"
      ]
     },
     "metadata": {
      "needs_background": "light"
     },
     "output_type": "display_data"
    }
   ],
   "source": [
    "df.resample('M', on='permit_issued_date').size().plot()\n"
   ]
  },
  {
   "cell_type": "code",
   "execution_count": 30,
   "id": "121234f4",
   "metadata": {},
   "outputs": [
    {
     "data": {
      "text/plain": [
       "<AxesSubplot:xlabel='permit_issued_date'>"
      ]
     },
     "execution_count": 30,
     "metadata": {},
     "output_type": "execute_result"
    },
    {
     "data": {
      "image/png": "[encoded data removed]",
      "text/plain": [
       "<Figure size 432x288 with 1 Axes>"
      ]
     },
     "metadata": {
      "needs_background": "light"
     },
     "output_type": "display_data"
    }
   ],
   "source": [
    "df.resample('Q', on='permit_issued_date').size().plot()\n",
    "# I think this is the most representational graph bc it's the least busy while still showing extreme changes\n"
   ]
  },
  {
   "cell_type": "markdown",
   "id": "d4a326c6",
   "metadata": {},
   "source": [
    "## What month had the fewest permits issued?"
   ]
  },
  {
   "cell_type": "code",
   "execution_count": 32,
   "id": "a30b7220",
   "metadata": {},
   "outputs": [
    {
     "data": {
      "text/plain": [
       "permit_issued_date\n",
       "1969-01-31    156\n",
       "1969-02-28    215\n",
       "1969-03-31    151\n",
       "1969-04-30    380\n",
       "1969-05-31    242\n",
       "             ... \n",
       "2021-07-31     62\n",
       "2021-08-31    131\n",
       "2021-09-30    121\n",
       "2021-10-31     81\n",
       "2021-11-30     43\n",
       "Freq: M, Length: 635, dtype: int64"
      ]
     },
     "execution_count": 32,
     "metadata": {},
     "output_type": "execute_result"
    }
   ],
   "source": [
    "df.resample('M', on='permit_issued_date').size().sort_index()\n",
    "#2021-11"
   ]
  },
  {
   "cell_type": "code",
   "execution_count": 43,
   "id": "c8af8504",
   "metadata": {},
   "outputs": [
    {
     "data": {
      "text/html": [
       "<div>\n",
       "<style scoped>\n",
       "    .dataframe tbody tr th:only-of-type {\n",
       "        vertical-align: middle;\n",
       "    }\n",
       "\n",
       "    .dataframe tbody tr th {\n",
       "        vertical-align: top;\n",
       "    }\n",
       "\n",
       "    .dataframe thead th {\n",
       "        text-align: right;\n",
       "    }\n",
       "</style>\n",
       "<table border=\"1\" class=\"dataframe\">\n",
       "  <thead>\n",
       "    <tr style=\"text-align: right;\">\n",
       "      <th></th>\n",
       "      <th>region</th>\n",
       "      <th>county</th>\n",
       "      <th>municipality</th>\n",
       "      <th>permit_issued_date</th>\n",
       "      <th>operator</th>\n",
       "      <th>application_type</th>\n",
       "      <th>auth_type_description</th>\n",
       "      <th>well_api</th>\n",
       "      <th>unconventional</th>\n",
       "      <th>configuration</th>\n",
       "      <th>well_type</th>\n",
       "      <th>farm_name</th>\n",
       "      <th>spud_date</th>\n",
       "      <th>latitude_degrees</th>\n",
       "      <th>longitude_degrees</th>\n",
       "      <th>latitude_decimal</th>\n",
       "      <th>longitude_decimal</th>\n",
       "      <th>ogo_num</th>\n",
       "      <th>operator_address</th>\n",
       "      <th>city</th>\n",
       "      <th>state</th>\n",
       "      <th>zip_code</th>\n",
       "      <th>authorization_id</th>\n",
       "      <th>client_id</th>\n",
       "      <th>prmry_fac_id</th>\n",
       "    </tr>\n",
       "  </thead>\n",
       "  <tbody>\n",
       "  </tbody>\n",
       "</table>\n",
       "</div>"
      ],
      "text/plain": [
       "Empty DataFrame\n",
       "Columns: [region, county, municipality, permit_issued_date, operator, application_type, auth_type_description, well_api, unconventional, configuration, well_type, farm_name, spud_date, latitude_degrees, longitude_degrees, latitude_decimal, longitude_decimal, ogo_num, operator_address, city, state, zip_code, authorization_id, client_id, prmry_fac_id]\n",
       "Index: []"
      ]
     },
     "execution_count": 43,
     "metadata": {},
     "output_type": "execute_result"
    }
   ],
   "source": [
    "#df.permit_issued_date.str.contains('1969-01')\n",
    "df[df.permit_issued_date.dt.day >= 2021-11]\n",
    "#homicides_df = homicides_df[homicides_df.incident_datetime.dt.year > 2014]\n",
    "\n",
    "#It LOOKS like this month does not have any data?? Transparently, I'm unsure bc it says -->\n",
    "    # the month of Nov. 2021 has 43 data entries "
   ]
  },
  {
   "cell_type": "markdown",
   "id": "6d687e84",
   "metadata": {},
   "source": [
    "I'm going to tell you: **this is not a valid month to analyze.** Why not?"
   ]
  },
  {
   "cell_type": "markdown",
   "id": "4bebde69",
   "metadata": {},
   "source": [
    "## What year had the most permits issued?"
   ]
  },
  {
   "cell_type": "code",
   "execution_count": 45,
   "id": "f580f35b",
   "metadata": {},
   "outputs": [
    {
     "data": {
      "text/plain": [
       "permit_issued_date\n",
       "1969-12-31     2781\n",
       "1970-12-31     2756\n",
       "1971-12-31     2642\n",
       "1972-12-31     3384\n",
       "1973-12-31     3669\n",
       "1974-12-31     3272\n",
       "1975-12-31     3354\n",
       "1976-12-31     3881\n",
       "1977-12-31     3828\n",
       "1978-12-31     5178\n",
       "1979-12-31     4991\n",
       "1980-12-31     7618\n",
       "1981-12-31     9483\n",
       "1982-12-31     9266\n",
       "1983-12-31     8003\n",
       "1984-12-31    13827\n",
       "1985-12-31     7839\n",
       "1986-12-31     3483\n",
       "1987-12-31     2452\n",
       "1988-12-31     2085\n",
       "1989-12-31     1797\n",
       "1990-12-31     1993\n",
       "1991-12-31     2003\n",
       "1992-12-31     1677\n",
       "1993-12-31     1221\n",
       "1994-12-31     1658\n",
       "1995-12-31     1207\n",
       "1996-12-31     1820\n",
       "1997-12-31     1878\n",
       "1998-12-31     1988\n",
       "1999-12-31     1981\n",
       "2000-12-31     2290\n",
       "2001-12-31     3011\n",
       "2002-12-31     3193\n",
       "2003-12-31     3830\n",
       "2004-12-31     4602\n",
       "2005-12-31     6045\n",
       "2006-12-31     7345\n",
       "2007-12-31     7299\n",
       "2008-12-31     7974\n",
       "2009-12-31     6241\n",
       "2010-12-31     6597\n",
       "2011-12-31     5745\n",
       "2012-12-31     4217\n",
       "2013-12-31     4612\n",
       "2014-12-31     4451\n",
       "2015-12-31     2525\n",
       "2016-12-31     1482\n",
       "2017-12-31     2225\n",
       "2018-12-31     2149\n",
       "2019-12-31     1705\n",
       "2020-12-31     1020\n",
       "2021-12-31      898\n",
       "Freq: A-DEC, dtype: int64"
      ]
     },
     "execution_count": 45,
     "metadata": {},
     "output_type": "execute_result"
    }
   ],
   "source": [
    "df.resample('Y', on='permit_issued_date').size().sort_index()\n",
    "#1969"
   ]
  },
  {
   "cell_type": "markdown",
   "id": "46aa881b",
   "metadata": {},
   "source": [
    "**Why so many in the early 80's?** There was money to be made! But [then it all came crashing down](https://en.wikipedia.org/wiki/1980s_oil_glut).\n",
    "\n",
    "If we were historians or economists this dataset could be a lot more fun."
   ]
  },
  {
   "cell_type": "code",
   "execution_count": null,
   "id": "c29a7683",
   "metadata": {},
   "outputs": [],
   "source": [
    "# because there was a [relative] oil boom during that time in the region!\n",
    "    # Ilena, Stephen and I did our Reporting 2 project on abandoned oil wells in NYC!"
   ]
  },
  {
   "cell_type": "markdown",
   "id": "d0490e4d",
   "metadata": {},
   "source": [
    "# Application Types\n",
    "\n",
    "## What are the different application types?\n",
    "\n",
    "There are three types of applications: new, renewals, and modifications. How many of each type are in this dataset?"
   ]
  },
  {
   "cell_type": "code",
   "execution_count": 47,
   "id": "b4ef9de3",
   "metadata": {},
   "outputs": [
    {
     "data": {
      "text/plain": [
       "NEW    202528\n",
       "REN      8165\n",
       "MOD      1778\n",
       "Name: application_type, dtype: int64"
      ]
     },
     "execution_count": 47,
     "metadata": {},
     "output_type": "execute_result"
    }
   ],
   "source": [
    "df.application_type.value_counts()"
   ]
  },
  {
   "cell_type": "markdown",
   "id": "c50b5ce2",
   "metadata": {},
   "source": [
    "## How many of each application type were granted in each month?\n",
    "\n",
    "I don't know if we've ever done this! But think about it: \n",
    "\n",
    "1. You want to put them into groups based on their month. What's the `groupby` equivalent for time?\n",
    "2. You want to count the number of applications types, just like you did in the cell above.\n",
    "\n",
    "The result should look something like this:\n",
    "\n",
    "```\n",
    "PERMIT_ISSUED_DATE  APPLICATION_TYPE\n",
    "2000-11-30          NEW                 157\n",
    "                    REN                   7\n",
    "2000-12-31          NEW                 194\n",
    "                    REN                   8\n",
    "2001-01-31          NEW                 228\n",
    "                                       ... \n",
    "2021-10-31          MOD                  18\n",
    "                    REN                   7\n",
    "2021-11-30          NEW                  35\n",
    "                    MOD                   6\n",
    "                    REN                   2\n",
    "```"
   ]
  },
  {
   "cell_type": "code",
   "execution_count": 153,
   "id": "9afe6e47",
   "metadata": {},
   "outputs": [
    {
     "data": {
      "text/plain": [
       "permit_issued_date  application_type\n",
       "1969-01-31          NEW                 156\n",
       "1969-02-28          NEW                 215\n",
       "1969-03-31          NEW                 151\n",
       "1969-04-30          NEW                 380\n",
       "1969-05-31          NEW                 242\n",
       "                                       ... \n",
       "2021-10-31          MOD                  18\n",
       "                    REN                   7\n",
       "2021-11-30          NEW                  35\n",
       "                    MOD                   6\n",
       "                    REN                   2\n",
       "Name: application_type, Length: 1055, dtype: int64"
      ]
     },
     "execution_count": 153,
     "metadata": {},
     "output_type": "execute_result"
    }
   ],
   "source": [
    "df.resample('M', on='permit_issued_date').application_type.value_counts()\n",
    "#QUESTION: I'd left .size() after resampling command here, which caused an error -->\n",
    "    # what exactly does .size() do??"
   ]
  },
  {
   "cell_type": "code",
   "execution_count": 154,
   "id": "19b35ed1",
   "metadata": {},
   "outputs": [],
   "source": [
    "#Here lies a bunch of work that did not lead to the right answer:\n",
    "\n",
    "#df.application_type.value_counts().groupby([TimeGrouper(freq='M'), df.application_type])\n",
    "#groupby([TimeGrouper(freq='Min'), df.Source])\n",
    "#df.groupby(by='agency').complaint_type.value_counts().groupby(level=0, group_keys=False).nlargest(3)\n",
    "\n",
    "\n",
    "#df.application_type.value_counts().groupby([df['permit_issued_date'],pd.TimeGrouper(freq='M')])\n",
    "#df.groupby([df['Source'],pd.TimeGrouper(freq='Min')])\n",
    "#df.groupby(['product', pd.TimeGrouper(freq='1M')])['sales'].sum()\n",
    "#df.permit_issued_date.dt.month.value_counts().sort_index().plot()\n",
    "# df.permit_issued_date.dt.month.value_counts()\n",
    "# df.application_type.value_counts().sort_index()\n",
    "\n",
    "#df.groupby(by='permit_issued_date').application_type.value_counts().sort_index()\n",
    "# df.created_date.dt.strftime('%B')\n",
    "#df.permit_issued_date.dt.strftime('%m').application_type.value_counts()\n"
   ]
  },
  {
   "cell_type": "markdown",
   "id": "fef96fdc",
   "metadata": {},
   "source": [
    "### Converting into a dataframe\n",
    "\n",
    "If we wanted to plot how new vs renewals vs modifications changed over time, we can't just do `.plot()`. I mean, try it, see what happens!"
   ]
  },
  {
   "cell_type": "code",
   "execution_count": 155,
   "id": "3b5ecdd0",
   "metadata": {},
   "outputs": [
    {
     "data": {
      "text/plain": [
       "<AxesSubplot:xlabel='permit_issued_date,application_type'>"
      ]
     },
     "execution_count": 155,
     "metadata": {},
     "output_type": "execute_result"
    },
    {
     "data": {
      "image/png": "[encoded data removed]",
      "text/plain": [
       "<Figure size 432x288 with 1 Axes>"
      ]
     },
     "metadata": {
      "needs_background": "light"
     },
     "output_type": "display_data"
    }
   ],
   "source": [
    "df.resample('M', on='permit_issued_date').application_type.value_counts().plot()\n",
    "#horrible!"
   ]
  },
  {
   "cell_type": "markdown",
   "id": "23ed10dd",
   "metadata": {},
   "source": [
    "**It's awful.** But here's what you can do to switch the month-category groups into something nice: remove the `.plot()`, toss an `.unstack()` on the end, and you'll end up with something like this:\n",
    "\n",
    "|APPLICATION_TYPE|MOD|NEW|REN|\n",
    "|---|---|---|---|\n",
    "|**PERMIT_ISSUED_DATE**|||||\n",
    "|2000-11-30|NaN|157.0|7.0|\n",
    "|2000-12-31|NaN|194.0|8.0|\n",
    "|...|...|...|...|"
   ]
  },
  {
   "cell_type": "code",
   "execution_count": 160,
   "id": "5b29e033",
   "metadata": {},
   "outputs": [
    {
     "data": {
      "text/html": [
       "<div>\n",
       "<style scoped>\n",
       "    .dataframe tbody tr th:only-of-type {\n",
       "        vertical-align: middle;\n",
       "    }\n",
       "\n",
       "    .dataframe tbody tr th {\n",
       "        vertical-align: top;\n",
       "    }\n",
       "\n",
       "    .dataframe thead th {\n",
       "        text-align: right;\n",
       "    }\n",
       "</style>\n",
       "<table border=\"1\" class=\"dataframe\">\n",
       "  <thead>\n",
       "    <tr style=\"text-align: right;\">\n",
       "      <th>application_type</th>\n",
       "      <th>MOD</th>\n",
       "      <th>NEW</th>\n",
       "      <th>REN</th>\n",
       "    </tr>\n",
       "    <tr>\n",
       "      <th>permit_issued_date</th>\n",
       "      <th></th>\n",
       "      <th></th>\n",
       "      <th></th>\n",
       "    </tr>\n",
       "  </thead>\n",
       "  <tbody>\n",
       "    <tr>\n",
       "      <th>1969-01-31</th>\n",
       "      <td>NaN</td>\n",
       "      <td>156.0</td>\n",
       "      <td>NaN</td>\n",
       "    </tr>\n",
       "    <tr>\n",
       "      <th>1969-02-28</th>\n",
       "      <td>NaN</td>\n",
       "      <td>215.0</td>\n",
       "      <td>NaN</td>\n",
       "    </tr>\n",
       "    <tr>\n",
       "      <th>1969-03-31</th>\n",
       "      <td>NaN</td>\n",
       "      <td>151.0</td>\n",
       "      <td>NaN</td>\n",
       "    </tr>\n",
       "    <tr>\n",
       "      <th>1969-04-30</th>\n",
       "      <td>NaN</td>\n",
       "      <td>380.0</td>\n",
       "      <td>NaN</td>\n",
       "    </tr>\n",
       "    <tr>\n",
       "      <th>1969-05-31</th>\n",
       "      <td>NaN</td>\n",
       "      <td>242.0</td>\n",
       "      <td>NaN</td>\n",
       "    </tr>\n",
       "    <tr>\n",
       "      <th>...</th>\n",
       "      <td>...</td>\n",
       "      <td>...</td>\n",
       "      <td>...</td>\n",
       "    </tr>\n",
       "    <tr>\n",
       "      <th>2021-07-31</th>\n",
       "      <td>3.0</td>\n",
       "      <td>45.0</td>\n",
       "      <td>14.0</td>\n",
       "    </tr>\n",
       "    <tr>\n",
       "      <th>2021-08-31</th>\n",
       "      <td>17.0</td>\n",
       "      <td>92.0</td>\n",
       "      <td>22.0</td>\n",
       "    </tr>\n",
       "    <tr>\n",
       "      <th>2021-09-30</th>\n",
       "      <td>12.0</td>\n",
       "      <td>98.0</td>\n",
       "      <td>11.0</td>\n",
       "    </tr>\n",
       "    <tr>\n",
       "      <th>2021-10-31</th>\n",
       "      <td>18.0</td>\n",
       "      <td>56.0</td>\n",
       "      <td>7.0</td>\n",
       "    </tr>\n",
       "    <tr>\n",
       "      <th>2021-11-30</th>\n",
       "      <td>6.0</td>\n",
       "      <td>35.0</td>\n",
       "      <td>2.0</td>\n",
       "    </tr>\n",
       "  </tbody>\n",
       "</table>\n",
       "<p>635 rows × 3 columns</p>\n",
       "</div>"
      ],
      "text/plain": [
       "application_type     MOD    NEW   REN\n",
       "permit_issued_date                   \n",
       "1969-01-31           NaN  156.0   NaN\n",
       "1969-02-28           NaN  215.0   NaN\n",
       "1969-03-31           NaN  151.0   NaN\n",
       "1969-04-30           NaN  380.0   NaN\n",
       "1969-05-31           NaN  242.0   NaN\n",
       "...                  ...    ...   ...\n",
       "2021-07-31           3.0   45.0  14.0\n",
       "2021-08-31          17.0   92.0  22.0\n",
       "2021-09-30          12.0   98.0  11.0\n",
       "2021-10-31          18.0   56.0   7.0\n",
       "2021-11-30           6.0   35.0   2.0\n",
       "\n",
       "[635 rows x 3 columns]"
      ]
     },
     "execution_count": 160,
     "metadata": {},
     "output_type": "execute_result"
    }
   ],
   "source": [
    "df.resample('M', on='permit_issued_date').application_type.value_counts().unstack()\n",
    "#QUESTION: how is .unstack() making this look dataframe-y?\n",
    "applications_df = df.resample('M', on='permit_issued_date').application_type.value_counts().unstack()\n",
    "applications_df"
   ]
  },
  {
   "cell_type": "markdown",
   "id": "59e16486",
   "metadata": {},
   "source": [
    "Nice, right? But even nicer: put a `.plot()` after it."
   ]
  },
  {
   "cell_type": "code",
   "execution_count": 157,
   "id": "955a1377",
   "metadata": {},
   "outputs": [
    {
     "data": {
      "text/plain": [
       "<AxesSubplot:xlabel='permit_issued_date'>"
      ]
     },
     "execution_count": 157,
     "metadata": {},
     "output_type": "execute_result"
    },
    {
     "data": {
      "image/png": "[encoded data removed]",
      "text/plain": [
       "<Figure size 432x288 with 1 Axes>"
      ]
     },
     "metadata": {
      "needs_background": "light"
     },
     "output_type": "display_data"
    }
   ],
   "source": [
    "df.resample('M', on='permit_issued_date').application_type.value_counts().unstack().plot()\n",
    "#nifty!"
   ]
  },
  {
   "cell_type": "markdown",
   "id": "fb7b8571",
   "metadata": {},
   "source": [
    "**Incredible!** This happens because it plots **each column as its own line.** Three columns, three lines!\n",
    "\n",
    "The practice of moving your data around to get it into the format you want is called **reshaping**, and it's pretty common requirement when you're trying to get a particular kind of graph. You can [watch a YouTube video I made about the topic](https://www.youtube.com/watch?v=O4538i9MQEc) if you'd like to learn more."
   ]
  },
  {
   "cell_type": "markdown",
   "id": "045e145e",
   "metadata": {},
   "source": [
    "## When was the first `MOD` permit issued?\n",
    "\n",
    "They seem to not exist in the database initially, but showed u\n",
    "p at some point later. How can we calculate this? There are a few different methods: some involving filtering, some involving groupby, some involving sorting, some involving `.min()`..."
   ]
  },
  {
   "cell_type": "code",
   "execution_count": 164,
   "id": "4ff57796",
   "metadata": {},
   "outputs": [
    {
     "data": {
      "text/plain": [
       "18228    2016-11-04\n",
       "141372   2016-11-15\n",
       "20188    2016-11-23\n",
       "18230    2016-12-20\n",
       "142922   2017-01-13\n",
       "            ...    \n",
       "198319   2021-11-10\n",
       "139753   2021-11-15\n",
       "25073    2021-11-15\n",
       "25074    2021-11-15\n",
       "25075    2021-11-15\n",
       "Name: permit_issued_date, Length: 1778, dtype: datetime64[ns]"
      ]
     },
     "execution_count": 164,
     "metadata": {},
     "output_type": "execute_result"
    }
   ],
   "source": [
    "df[df.application_type == 'MOD'].permit_issued_date.sort_values()\n",
    "#2016-11-04"
   ]
  },
  {
   "cell_type": "code",
   "execution_count": 56,
   "id": "4b608bd0",
   "metadata": {},
   "outputs": [
    {
     "data": {
      "text/plain": [
       "Timestamp('2016-11-04 00:00:00')"
      ]
     },
     "execution_count": 56,
     "metadata": {},
     "output_type": "execute_result"
    }
   ],
   "source": [
    "df[df.application_type == 'MOD'].permit_issued_date.min()"
   ]
  },
  {
   "cell_type": "code",
   "execution_count": 142,
   "id": "2e21feb5",
   "metadata": {},
   "outputs": [],
   "source": [
    "#df[df.application_type == 'MOD'].groupby(by='permit_issued_date').value_counts()\n",
    "# QUESTION: what am I doing wrong here with the groupby part of this? "
   ]
  },
  {
   "cell_type": "markdown",
   "id": "ea32763e",
   "metadata": {},
   "source": [
    "## What are the top five counties for granting new permits?"
   ]
  },
  {
   "cell_type": "code",
   "execution_count": 194,
   "id": "e84218d4",
   "metadata": {},
   "outputs": [
    {
     "data": {
      "text/plain": [
       "McKean     32217\n",
       "Warren     25840\n",
       "Venango    24904\n",
       "Indiana    14241\n",
       "Forest     10584\n",
       "Name: county, dtype: int64"
      ]
     },
     "execution_count": 194,
     "metadata": {},
     "output_type": "execute_result"
    }
   ],
   "source": [
    "df[df.application_type == 'NEW'].county.value_counts().head()\n",
    "new_df = df[df.application_type == 'NEW']\n",
    "new_df.county.value_counts().head()"
   ]
  },
  {
   "cell_type": "markdown",
   "id": "4f9cd1e3",
   "metadata": {},
   "source": [
    "## Create a new dataframe called new_top5 that is only new applications from those five counties"
   ]
  },
  {
   "cell_type": "code",
   "execution_count": 109,
   "id": "80d12125",
   "metadata": {},
   "outputs": [],
   "source": [
    "#df[df.primary_cause.str.contains(\"GUNSHOT WOUND\", na=False)]\n",
    "#df[df.primary_cause.str.contains(\"McKean\" & \"Warren\" na=False)]\n",
    "\n"
   ]
  },
  {
   "cell_type": "code",
   "execution_count": 110,
   "id": "4c94f89c",
   "metadata": {},
   "outputs": [],
   "source": [
    "#top_five_counties_df = df[df.county == 'McKean' and 'Warren'or 'Venago' or 'Indiana' or 'Forest']\n",
    "# McKean     32217\n",
    "# Warren     25840\n",
    "# Venango    24904\n",
    "# Indiana    14241\n",
    "# Forest     10584\n"
   ]
  },
  {
   "cell_type": "code",
   "execution_count": 195,
   "id": "4c543aa9",
   "metadata": {},
   "outputs": [],
   "source": [
    "new_df[new_df.county.isin(['McKean','Warren','Venango','Indiana','Forest'])].county.value_counts()\n",
    "new_top5 = df[df.county.isin(['McKean','Warren','Venango','Indiana','Forest'])]"
   ]
  },
  {
   "cell_type": "code",
   "execution_count": 196,
   "id": "91ceefdf",
   "metadata": {},
   "outputs": [
    {
     "data": {
      "text/html": [
       "<div>\n",
       "<style scoped>\n",
       "    .dataframe tbody tr th:only-of-type {\n",
       "        vertical-align: middle;\n",
       "    }\n",
       "\n",
       "    .dataframe tbody tr th {\n",
       "        vertical-align: top;\n",
       "    }\n",
       "\n",
       "    .dataframe thead th {\n",
       "        text-align: right;\n",
       "    }\n",
       "</style>\n",
       "<table border=\"1\" class=\"dataframe\">\n",
       "  <thead>\n",
       "    <tr style=\"text-align: right;\">\n",
       "      <th></th>\n",
       "      <th>region</th>\n",
       "      <th>county</th>\n",
       "      <th>municipality</th>\n",
       "      <th>permit_issued_date</th>\n",
       "      <th>operator</th>\n",
       "      <th>application_type</th>\n",
       "      <th>auth_type_description</th>\n",
       "      <th>well_api</th>\n",
       "      <th>unconventional</th>\n",
       "      <th>configuration</th>\n",
       "      <th>well_type</th>\n",
       "      <th>farm_name</th>\n",
       "      <th>spud_date</th>\n",
       "      <th>latitude_degrees</th>\n",
       "      <th>longitude_degrees</th>\n",
       "      <th>latitude_decimal</th>\n",
       "      <th>longitude_decimal</th>\n",
       "      <th>ogo_num</th>\n",
       "      <th>operator_address</th>\n",
       "      <th>city</th>\n",
       "      <th>state</th>\n",
       "      <th>zip_code</th>\n",
       "      <th>authorization_id</th>\n",
       "      <th>client_id</th>\n",
       "      <th>prmry_fac_id</th>\n",
       "    </tr>\n",
       "  </thead>\n",
       "  <tbody>\n",
       "    <tr>\n",
       "      <th>56801</th>\n",
       "      <td>EP DOGO NWDO Dstr Off</td>\n",
       "      <td>Forest</td>\n",
       "      <td>Barnett Twp</td>\n",
       "      <td>1984-11-28</td>\n",
       "      <td>ANTHONY E COOK OIL &amp; GAS PROD CO</td>\n",
       "      <td>NEW</td>\n",
       "      <td>Drill &amp; Operate Well Permit Drill Deeper</td>\n",
       "      <td>053-23648</td>\n",
       "      <td>No</td>\n",
       "      <td>Vertical Well</td>\n",
       "      <td>GAS</td>\n",
       "      <td>COOK 1</td>\n",
       "      <td>01/01/1800</td>\n",
       "      <td>41º 19' 38.97''</td>\n",
       "      <td>-79º 11' 45.963''</td>\n",
       "      <td>41.327492</td>\n",
       "      <td>-79.196101</td>\n",
       "      <td>OGO-2281</td>\n",
       "      <td>PO BOX 118\\n</td>\n",
       "      <td>COOKSBURG</td>\n",
       "      <td>PA</td>\n",
       "      <td>16217-0118</td>\n",
       "      <td>107175</td>\n",
       "      <td>39665</td>\n",
       "      <td>109964</td>\n",
       "    </tr>\n",
       "    <tr>\n",
       "      <th>56802</th>\n",
       "      <td>EP DOGO NWDO Dstr Off</td>\n",
       "      <td>Forest</td>\n",
       "      <td>Barnett Twp</td>\n",
       "      <td>1975-10-29</td>\n",
       "      <td>CHERNICKY PETE</td>\n",
       "      <td>NEW</td>\n",
       "      <td>Drill &amp; Operate Well Permit Redrill</td>\n",
       "      <td>053-21374</td>\n",
       "      <td>No</td>\n",
       "      <td>Vertical Well</td>\n",
       "      <td>GAS</td>\n",
       "      <td>PETE CHERNICKY 1</td>\n",
       "      <td>01/01/1800</td>\n",
       "      <td>NaN</td>\n",
       "      <td>NaN</td>\n",
       "      <td>NaN</td>\n",
       "      <td>NaN</td>\n",
       "      <td>OGO-1663</td>\n",
       "      <td>PO BOX 69\\n</td>\n",
       "      <td>CLARION</td>\n",
       "      <td>PA</td>\n",
       "      <td>16214-0069</td>\n",
       "      <td>104032</td>\n",
       "      <td>45859</td>\n",
       "      <td>45687</td>\n",
       "    </tr>\n",
       "    <tr>\n",
       "      <th>56803</th>\n",
       "      <td>EP DOGO NWDO Dstr Off</td>\n",
       "      <td>Forest</td>\n",
       "      <td>Barnett Twp</td>\n",
       "      <td>1976-02-11</td>\n",
       "      <td>CHERNICKY PETE</td>\n",
       "      <td>NEW</td>\n",
       "      <td>Drill &amp; Operate Well Permit</td>\n",
       "      <td>053-21478</td>\n",
       "      <td>No</td>\n",
       "      <td>Vertical Well</td>\n",
       "      <td>GAS</td>\n",
       "      <td>PETE CHERNICKY 2</td>\n",
       "      <td>01/01/1800</td>\n",
       "      <td>41º 21' 15.19''</td>\n",
       "      <td>-79º 12' 10.864''</td>\n",
       "      <td>41.354220</td>\n",
       "      <td>-79.203018</td>\n",
       "      <td>OGO-1663</td>\n",
       "      <td>PO BOX 69\\n</td>\n",
       "      <td>CLARION</td>\n",
       "      <td>PA</td>\n",
       "      <td>16214-0069</td>\n",
       "      <td>104143</td>\n",
       "      <td>45859</td>\n",
       "      <td>45791</td>\n",
       "    </tr>\n",
       "    <tr>\n",
       "      <th>56804</th>\n",
       "      <td>EP DOGO NWDO Dstr Off</td>\n",
       "      <td>Forest</td>\n",
       "      <td>Barnett Twp</td>\n",
       "      <td>1973-11-30</td>\n",
       "      <td>DILLON &amp; REETZ</td>\n",
       "      <td>NEW</td>\n",
       "      <td>Drill &amp; Operate Well Permit</td>\n",
       "      <td>053-20988</td>\n",
       "      <td>No</td>\n",
       "      <td>Vertical Well</td>\n",
       "      <td>OIL</td>\n",
       "      <td>WARRANT 3159 4</td>\n",
       "      <td>NaN</td>\n",
       "      <td>NaN</td>\n",
       "      <td>NaN</td>\n",
       "      <td>NaN</td>\n",
       "      <td>NaN</td>\n",
       "      <td>OGO-3607</td>\n",
       "      <td>PO BOX 307\\n</td>\n",
       "      <td>BRONXVILLE</td>\n",
       "      <td>NY</td>\n",
       "      <td>10708-0307</td>\n",
       "      <td>103517</td>\n",
       "      <td>47618</td>\n",
       "      <td>45301</td>\n",
       "    </tr>\n",
       "    <tr>\n",
       "      <th>56805</th>\n",
       "      <td>EP DOGO NWDO Dstr Off</td>\n",
       "      <td>Forest</td>\n",
       "      <td>Barnett Twp</td>\n",
       "      <td>1973-11-30</td>\n",
       "      <td>DILLON &amp; REETZ</td>\n",
       "      <td>NEW</td>\n",
       "      <td>Drill &amp; Operate Well Permit</td>\n",
       "      <td>053-20989</td>\n",
       "      <td>No</td>\n",
       "      <td>Vertical Well</td>\n",
       "      <td>OIL</td>\n",
       "      <td>WARRANT 3159 5</td>\n",
       "      <td>NaN</td>\n",
       "      <td>NaN</td>\n",
       "      <td>NaN</td>\n",
       "      <td>NaN</td>\n",
       "      <td>NaN</td>\n",
       "      <td>OGO-3607</td>\n",
       "      <td>PO BOX 307\\n</td>\n",
       "      <td>BRONXVILLE</td>\n",
       "      <td>NY</td>\n",
       "      <td>10708-0307</td>\n",
       "      <td>103518</td>\n",
       "      <td>47618</td>\n",
       "      <td>45302</td>\n",
       "    </tr>\n",
       "  </tbody>\n",
       "</table>\n",
       "</div>"
      ],
      "text/plain": [
       "                      region  county municipality permit_issued_date  \\\n",
       "56801  EP DOGO NWDO Dstr Off  Forest  Barnett Twp         1984-11-28   \n",
       "56802  EP DOGO NWDO Dstr Off  Forest  Barnett Twp         1975-10-29   \n",
       "56803  EP DOGO NWDO Dstr Off  Forest  Barnett Twp         1976-02-11   \n",
       "56804  EP DOGO NWDO Dstr Off  Forest  Barnett Twp         1973-11-30   \n",
       "56805  EP DOGO NWDO Dstr Off  Forest  Barnett Twp         1973-11-30   \n",
       "\n",
       "                               operator application_type  \\\n",
       "56801  ANTHONY E COOK OIL & GAS PROD CO              NEW   \n",
       "56802                    CHERNICKY PETE              NEW   \n",
       "56803                    CHERNICKY PETE              NEW   \n",
       "56804                    DILLON & REETZ              NEW   \n",
       "56805                    DILLON & REETZ              NEW   \n",
       "\n",
       "                          auth_type_description   well_api unconventional  \\\n",
       "56801  Drill & Operate Well Permit Drill Deeper  053-23648             No   \n",
       "56802       Drill & Operate Well Permit Redrill  053-21374             No   \n",
       "56803               Drill & Operate Well Permit  053-21478             No   \n",
       "56804               Drill & Operate Well Permit  053-20988             No   \n",
       "56805               Drill & Operate Well Permit  053-20989             No   \n",
       "\n",
       "       configuration well_type         farm_name   spud_date latitude_degrees  \\\n",
       "56801  Vertical Well       GAS            COOK 1  01/01/1800  41º 19' 38.97''   \n",
       "56802  Vertical Well       GAS  PETE CHERNICKY 1  01/01/1800              NaN   \n",
       "56803  Vertical Well       GAS  PETE CHERNICKY 2  01/01/1800  41º 21' 15.19''   \n",
       "56804  Vertical Well       OIL    WARRANT 3159 4         NaN              NaN   \n",
       "56805  Vertical Well       OIL    WARRANT 3159 5         NaN              NaN   \n",
       "\n",
       "       longitude_degrees  latitude_decimal  longitude_decimal   ogo_num  \\\n",
       "56801  -79º 11' 45.963''         41.327492         -79.196101  OGO-2281   \n",
       "56802                NaN               NaN                NaN  OGO-1663   \n",
       "56803  -79º 12' 10.864''         41.354220         -79.203018  OGO-1663   \n",
       "56804                NaN               NaN                NaN  OGO-3607   \n",
       "56805                NaN               NaN                NaN  OGO-3607   \n",
       "\n",
       "      operator_address        city state    zip_code  authorization_id  \\\n",
       "56801     PO BOX 118\\n   COOKSBURG    PA  16217-0118            107175   \n",
       "56802      PO BOX 69\\n     CLARION    PA  16214-0069            104032   \n",
       "56803      PO BOX 69\\n     CLARION    PA  16214-0069            104143   \n",
       "56804     PO BOX 307\\n  BRONXVILLE    NY  10708-0307            103517   \n",
       "56805     PO BOX 307\\n  BRONXVILLE    NY  10708-0307            103518   \n",
       "\n",
       "       client_id  prmry_fac_id  \n",
       "56801      39665        109964  \n",
       "56802      45859         45687  \n",
       "56803      45859         45791  \n",
       "56804      47618         45301  \n",
       "56805      47618         45302  "
      ]
     },
     "execution_count": 196,
     "metadata": {},
     "output_type": "execute_result"
    }
   ],
   "source": [
    "new_top5.head()"
   ]
  },
  {
   "cell_type": "markdown",
   "id": "eb3094d7",
   "metadata": {},
   "source": [
    "### Confirm your new dataframe has 80667 rows"
   ]
  },
  {
   "cell_type": "code",
   "execution_count": 198,
   "id": "e9648f34",
   "metadata": {},
   "outputs": [
    {
     "data": {
      "text/plain": [
       "(110177, 25)"
      ]
     },
     "execution_count": 198,
     "metadata": {},
     "output_type": "execute_result"
    }
   ],
   "source": [
    "new_top5.shape\n"
   ]
  },
  {
   "cell_type": "markdown",
   "id": "15cbfe07",
   "metadata": {},
   "source": [
    "## Plot the number of permits each year. Each county should have its own line.\n",
    "\n",
    "It should look like this:"
   ]
  },
  {
   "cell_type": "markdown",
   "id": "9e4c3e66",
   "metadata": {},
   "source": [
    "<img src=\"data:image/png;base64,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\">"
   ]
  },
  {
   "cell_type": "code",
   "execution_count": 199,
   "id": "53b77e7b",
   "metadata": {},
   "outputs": [
    {
     "name": "stderr",
     "output_type": "stream",
     "text": [
      "/var/folders/qx/nkh2pq6x3_193757ddxvrcf40000gp/T/ipykernel_26681/88219914.py:4: UserWarning: Boolean Series key will be reindexed to match DataFrame index.\n",
      "  ax = new_top5[df.county == 'McKean'].resample('Y', on='permit_issued_date').size().plot()\n",
      "/var/folders/qx/nkh2pq6x3_193757ddxvrcf40000gp/T/ipykernel_26681/88219914.py:5: UserWarning: Boolean Series key will be reindexed to match DataFrame index.\n",
      "  new_top5[df.county == 'Warren'].resample('Y', on='permit_issued_date').size().plot(ax=ax)\n",
      "/var/folders/qx/nkh2pq6x3_193757ddxvrcf40000gp/T/ipykernel_26681/88219914.py:6: UserWarning: Boolean Series key will be reindexed to match DataFrame index.\n",
      "  new_top5[df.county == 'Venango'].resample('Y', on='permit_issued_date').size().plot(ax=ax)\n",
      "/var/folders/qx/nkh2pq6x3_193757ddxvrcf40000gp/T/ipykernel_26681/88219914.py:7: UserWarning: Boolean Series key will be reindexed to match DataFrame index.\n",
      "  new_top5[df.county == 'Indiana'].resample('Y', on='permit_issued_date').size().plot(ax=ax)\n",
      "/var/folders/qx/nkh2pq6x3_193757ddxvrcf40000gp/T/ipykernel_26681/88219914.py:8: UserWarning: Boolean Series key will be reindexed to match DataFrame index.\n",
      "  new_top5[df.county == 'Forest'].resample('Y', on='permit_issued_date').size().plot(ax=ax)\n"
     ]
    },
    {
     "data": {
      "text/plain": [
       "<AxesSubplot:xlabel='permit_issued_date'>"
      ]
     },
     "execution_count": 199,
     "metadata": {},
     "output_type": "execute_result"
    },
    {
     "data": {
      "image/png": "[encoded data removed]",
      "text/plain": [
       "<Figure size 432x288 with 1 Axes>"
      ]
     },
     "metadata": {
      "needs_background": "light"
     },
     "output_type": "display_data"
    }
   ],
   "source": [
    "# top_five_counties_df.head()\n",
    "# df.resample('W', on='permit_issued_date').size().plot()\n",
    "\n",
    "ax = new_top5[df.county == 'McKean'].resample('Y', on='permit_issued_date').size().plot()\n",
    "new_top5[df.county == 'Warren'].resample('Y', on='permit_issued_date').size().plot(ax=ax)\n",
    "new_top5[df.county == 'Venango'].resample('Y', on='permit_issued_date').size().plot(ax=ax)\n",
    "new_top5[df.county == 'Indiana'].resample('Y', on='permit_issued_date').size().plot(ax=ax)\n",
    "new_top5[df.county == 'Forest'].resample('Y', on='permit_issued_date').size().plot(ax=ax)\n",
    "\n",
    "#QUESITON: How to add a key to plot? \n",
    "\n",
    "# ax = wheat_beers.IBUs.hist(bins=30, color='magenta')\n",
    "# ipa.IBUs.hist(ax=ax, bins=30, color='yellow')"
   ]
  },
  {
   "cell_type": "markdown",
   "id": "47dbf925",
   "metadata": {},
   "source": [
    "You'll want to do roughly the same thing you did for applications up above:\n",
    "\n",
    "1. Put them in groups based on their year\n",
    "2. See how many times each county exists for that year\n",
    "3. `.unstack().plot()`\n",
    "\n",
    "Before you plot, you should have a dataframe where **years are rows and counties are columns.** If you have a bazillion lines it's because you're using your original dataframe instead of the new top 5 one."
   ]
  },
  {
   "cell_type": "code",
   "execution_count": 200,
   "id": "7e428c78",
   "metadata": {},
   "outputs": [
    {
     "data": {
      "text/plain": [
       "<AxesSubplot:xlabel='permit_issued_date'>"
      ]
     },
     "execution_count": 200,
     "metadata": {},
     "output_type": "execute_result"
    },
    {
     "data": {
      "image/png": "[encoded data removed]",
      "text/plain": [
       "<Figure size 432x288 with 1 Axes>"
      ]
     },
     "metadata": {
      "needs_background": "light"
     },
     "output_type": "display_data"
    }
   ],
   "source": [
    "#omg did this too soon\n",
    "\n",
    "new_top5.resample('Y', on='permit_issued_date').county.value_counts()#.unstack().plot()\n",
    "new_top5.resample('Y', on='permit_issued_date').county.value_counts().unstack()\n",
    "new_top5.resample('Y', on='permit_issued_date').county.value_counts().unstack().plot()\n"
   ]
  },
  {
   "cell_type": "markdown",
   "id": "aad0a2cb",
   "metadata": {},
   "source": [
    "## The mid-80s hit Warren County especially hard! What was the percentage drop in new permits 1985 and 1986?\n",
    "\n",
    "### Step one: Calculating\n",
    "\n",
    "For the code, just put `.pct_change()` on your county-vs-date dataframe, it'll calculate the percentage change between the columns of each row and the row below it. It shoudl look like this:\n",
    "\n",
    "|COUNTY|Armstrong|McKean|Warren|Washington|Westmoreland|\n",
    "|---|---|---|---|---|---|\n",
    "|**PERMIT_ISSUED_DATE**|||||\n",
    "|1969-12-31|NaN\t|NaN|NaN|NaN|NaN|\n",
    "|1970-12-31|-0.105263|-0.176264|0.162095|0.214286|-0.423077|\n",
    "|1971-12-31|-0.200000|-0.420290|0.341202|0.058824|0.200000|"
   ]
  },
  {
   "cell_type": "code",
   "execution_count": 201,
   "id": "6f8ddf59",
   "metadata": {},
   "outputs": [
    {
     "data": {
      "text/html": [
       "<div>\n",
       "<style scoped>\n",
       "    .dataframe tbody tr th:only-of-type {\n",
       "        vertical-align: middle;\n",
       "    }\n",
       "\n",
       "    .dataframe tbody tr th {\n",
       "        vertical-align: top;\n",
       "    }\n",
       "\n",
       "    .dataframe thead th {\n",
       "        text-align: right;\n",
       "    }\n",
       "</style>\n",
       "<table border=\"1\" class=\"dataframe\">\n",
       "  <thead>\n",
       "    <tr style=\"text-align: right;\">\n",
       "      <th>county</th>\n",
       "      <th>Forest</th>\n",
       "      <th>Indiana</th>\n",
       "      <th>McKean</th>\n",
       "      <th>Venango</th>\n",
       "      <th>Warren</th>\n",
       "    </tr>\n",
       "    <tr>\n",
       "      <th>permit_issued_date</th>\n",
       "      <th></th>\n",
       "      <th></th>\n",
       "      <th></th>\n",
       "      <th></th>\n",
       "      <th></th>\n",
       "    </tr>\n",
       "  </thead>\n",
       "  <tbody>\n",
       "    <tr>\n",
       "      <th>1969-12-31</th>\n",
       "      <td>NaN</td>\n",
       "      <td>NaN</td>\n",
       "      <td>NaN</td>\n",
       "      <td>NaN</td>\n",
       "      <td>NaN</td>\n",
       "    </tr>\n",
       "    <tr>\n",
       "      <th>1970-12-31</th>\n",
       "      <td>1.657143</td>\n",
       "      <td>0.082192</td>\n",
       "      <td>-0.176264</td>\n",
       "      <td>0.675978</td>\n",
       "      <td>0.162095</td>\n",
       "    </tr>\n",
       "    <tr>\n",
       "      <th>1971-12-31</th>\n",
       "      <td>-0.252688</td>\n",
       "      <td>0.139241</td>\n",
       "      <td>-0.420290</td>\n",
       "      <td>0.513333</td>\n",
       "      <td>0.341202</td>\n",
       "    </tr>\n",
       "    <tr>\n",
       "      <th>1972-12-31</th>\n",
       "      <td>0.323741</td>\n",
       "      <td>0.461111</td>\n",
       "      <td>1.236765</td>\n",
       "      <td>0.240088</td>\n",
       "      <td>-0.444800</td>\n",
       "    </tr>\n",
       "    <tr>\n",
       "      <th>1973-12-31</th>\n",
       "      <td>-0.048913</td>\n",
       "      <td>0.787072</td>\n",
       "      <td>-0.240631</td>\n",
       "      <td>0.515098</td>\n",
       "      <td>0.691643</td>\n",
       "    </tr>\n",
       "    <tr>\n",
       "      <th>1974-12-31</th>\n",
       "      <td>-0.005714</td>\n",
       "      <td>-0.144681</td>\n",
       "      <td>0.012987</td>\n",
       "      <td>-0.483001</td>\n",
       "      <td>0.037479</td>\n",
       "    </tr>\n",
       "    <tr>\n",
       "      <th>1975-12-31</th>\n",
       "      <td>0.419540</td>\n",
       "      <td>0.089552</td>\n",
       "      <td>-0.000855</td>\n",
       "      <td>0.126984</td>\n",
       "      <td>-0.492611</td>\n",
       "    </tr>\n",
       "    <tr>\n",
       "      <th>1976-12-31</th>\n",
       "      <td>-0.255061</td>\n",
       "      <td>-0.283105</td>\n",
       "      <td>0.310522</td>\n",
       "      <td>0.637827</td>\n",
       "      <td>0.362460</td>\n",
       "    </tr>\n",
       "    <tr>\n",
       "      <th>1977-12-31</th>\n",
       "      <td>1.201087</td>\n",
       "      <td>0.359873</td>\n",
       "      <td>-0.473890</td>\n",
       "      <td>-0.296069</td>\n",
       "      <td>0.380048</td>\n",
       "    </tr>\n",
       "    <tr>\n",
       "      <th>1978-12-31</th>\n",
       "      <td>-0.101235</td>\n",
       "      <td>0.259953</td>\n",
       "      <td>1.038462</td>\n",
       "      <td>0.378709</td>\n",
       "      <td>-0.017212</td>\n",
       "    </tr>\n",
       "    <tr>\n",
       "      <th>1979-12-31</th>\n",
       "      <td>-0.032967</td>\n",
       "      <td>0.165428</td>\n",
       "      <td>-0.445526</td>\n",
       "      <td>0.227848</td>\n",
       "      <td>0.316988</td>\n",
       "    </tr>\n",
       "    <tr>\n",
       "      <th>1980-12-31</th>\n",
       "      <td>1.144886</td>\n",
       "      <td>0.062201</td>\n",
       "      <td>0.265642</td>\n",
       "      <td>1.184536</td>\n",
       "      <td>0.469415</td>\n",
       "    </tr>\n",
       "    <tr>\n",
       "      <th>1981-12-31</th>\n",
       "      <td>0.068874</td>\n",
       "      <td>0.136637</td>\n",
       "      <td>0.047702</td>\n",
       "      <td>0.074092</td>\n",
       "      <td>0.596380</td>\n",
       "    </tr>\n",
       "    <tr>\n",
       "      <th>1982-12-31</th>\n",
       "      <td>-0.272615</td>\n",
       "      <td>-0.229855</td>\n",
       "      <td>0.022351</td>\n",
       "      <td>0.065466</td>\n",
       "      <td>0.003968</td>\n",
       "    </tr>\n",
       "    <tr>\n",
       "      <th>1983-12-31</th>\n",
       "      <td>-0.248722</td>\n",
       "      <td>-0.373928</td>\n",
       "      <td>-0.484211</td>\n",
       "      <td>-0.074227</td>\n",
       "      <td>0.050819</td>\n",
       "    </tr>\n",
       "    <tr>\n",
       "      <th>1984-12-31</th>\n",
       "      <td>0.385488</td>\n",
       "      <td>0.854795</td>\n",
       "      <td>1.861852</td>\n",
       "      <td>0.792873</td>\n",
       "      <td>0.463192</td>\n",
       "    </tr>\n",
       "    <tr>\n",
       "      <th>1985-12-31</th>\n",
       "      <td>-0.292962</td>\n",
       "      <td>-0.389956</td>\n",
       "      <td>-0.659353</td>\n",
       "      <td>-0.642733</td>\n",
       "      <td>-0.298201</td>\n",
       "    </tr>\n",
       "    <tr>\n",
       "      <th>1986-12-31</th>\n",
       "      <td>-0.870370</td>\n",
       "      <td>-0.283293</td>\n",
       "      <td>0.008052</td>\n",
       "      <td>-0.813630</td>\n",
       "      <td>-0.744636</td>\n",
       "    </tr>\n",
       "    <tr>\n",
       "      <th>1987-12-31</th>\n",
       "      <td>-0.357143</td>\n",
       "      <td>-0.361486</td>\n",
       "      <td>-0.630990</td>\n",
       "      <td>-0.093284</td>\n",
       "      <td>-0.227459</td>\n",
       "    </tr>\n",
       "    <tr>\n",
       "      <th>1988-12-31</th>\n",
       "      <td>-0.805556</td>\n",
       "      <td>-0.179894</td>\n",
       "      <td>0.341991</td>\n",
       "      <td>-0.263374</td>\n",
       "      <td>0.244032</td>\n",
       "    </tr>\n",
       "    <tr>\n",
       "      <th>1989-12-31</th>\n",
       "      <td>-0.285714</td>\n",
       "      <td>0.303226</td>\n",
       "      <td>-0.567742</td>\n",
       "      <td>0.050279</td>\n",
       "      <td>-0.417910</td>\n",
       "    </tr>\n",
       "    <tr>\n",
       "      <th>1990-12-31</th>\n",
       "      <td>0.600000</td>\n",
       "      <td>-0.198020</td>\n",
       "      <td>0.000000</td>\n",
       "      <td>-0.382979</td>\n",
       "      <td>0.377289</td>\n",
       "    </tr>\n",
       "    <tr>\n",
       "      <th>1991-12-31</th>\n",
       "      <td>1.500000</td>\n",
       "      <td>0.160494</td>\n",
       "      <td>-0.574627</td>\n",
       "      <td>-0.189655</td>\n",
       "      <td>-0.287234</td>\n",
       "    </tr>\n",
       "    <tr>\n",
       "      <th>1992-12-31</th>\n",
       "      <td>-0.250000</td>\n",
       "      <td>0.101064</td>\n",
       "      <td>-0.017544</td>\n",
       "      <td>-0.297872</td>\n",
       "      <td>-0.201493</td>\n",
       "    </tr>\n",
       "    <tr>\n",
       "      <th>1993-12-31</th>\n",
       "      <td>4.933333</td>\n",
       "      <td>-0.275362</td>\n",
       "      <td>0.589286</td>\n",
       "      <td>-0.181818</td>\n",
       "      <td>-0.275701</td>\n",
       "    </tr>\n",
       "    <tr>\n",
       "      <th>1994-12-31</th>\n",
       "      <td>-0.696629</td>\n",
       "      <td>0.800000</td>\n",
       "      <td>0.415730</td>\n",
       "      <td>1.870370</td>\n",
       "      <td>-0.245161</td>\n",
       "    </tr>\n",
       "    <tr>\n",
       "      <th>1995-12-31</th>\n",
       "      <td>0.555556</td>\n",
       "      <td>-0.296296</td>\n",
       "      <td>0.000000</td>\n",
       "      <td>-0.722581</td>\n",
       "      <td>0.256410</td>\n",
       "    </tr>\n",
       "    <tr>\n",
       "      <th>1996-12-31</th>\n",
       "      <td>1.642857</td>\n",
       "      <td>0.536842</td>\n",
       "      <td>0.515873</td>\n",
       "      <td>-0.093023</td>\n",
       "      <td>0.176871</td>\n",
       "    </tr>\n",
       "    <tr>\n",
       "      <th>1997-12-31</th>\n",
       "      <td>-0.099099</td>\n",
       "      <td>-0.167808</td>\n",
       "      <td>-0.026178</td>\n",
       "      <td>0.153846</td>\n",
       "      <td>0.352601</td>\n",
       "    </tr>\n",
       "    <tr>\n",
       "      <th>1998-12-31</th>\n",
       "      <td>0.420000</td>\n",
       "      <td>-0.197531</td>\n",
       "      <td>0.258065</td>\n",
       "      <td>0.822222</td>\n",
       "      <td>-0.380342</td>\n",
       "    </tr>\n",
       "    <tr>\n",
       "      <th>1999-12-31</th>\n",
       "      <td>-0.492958</td>\n",
       "      <td>0.082051</td>\n",
       "      <td>0.042735</td>\n",
       "      <td>-0.365854</td>\n",
       "      <td>-0.103448</td>\n",
       "    </tr>\n",
       "    <tr>\n",
       "      <th>2000-12-31</th>\n",
       "      <td>0.069444</td>\n",
       "      <td>-0.094787</td>\n",
       "      <td>1.106557</td>\n",
       "      <td>0.038462</td>\n",
       "      <td>0.323077</td>\n",
       "    </tr>\n",
       "    <tr>\n",
       "      <th>2001-12-31</th>\n",
       "      <td>0.480519</td>\n",
       "      <td>0.340314</td>\n",
       "      <td>-0.274319</td>\n",
       "      <td>0.092593</td>\n",
       "      <td>0.319767</td>\n",
       "    </tr>\n",
       "    <tr>\n",
       "      <th>2002-12-31</th>\n",
       "      <td>-0.236842</td>\n",
       "      <td>0.007812</td>\n",
       "      <td>0.273458</td>\n",
       "      <td>0.423729</td>\n",
       "      <td>-0.158590</td>\n",
       "    </tr>\n",
       "    <tr>\n",
       "      <th>2003-12-31</th>\n",
       "      <td>0.735632</td>\n",
       "      <td>0.290698</td>\n",
       "      <td>0.109474</td>\n",
       "      <td>0.071429</td>\n",
       "      <td>0.015707</td>\n",
       "    </tr>\n",
       "    <tr>\n",
       "      <th>2004-12-31</th>\n",
       "      <td>0.735099</td>\n",
       "      <td>0.270270</td>\n",
       "      <td>0.381404</td>\n",
       "      <td>-0.011111</td>\n",
       "      <td>0.381443</td>\n",
       "    </tr>\n",
       "    <tr>\n",
       "      <th>2005-12-31</th>\n",
       "      <td>0.244275</td>\n",
       "      <td>0.141844</td>\n",
       "      <td>0.311813</td>\n",
       "      <td>0.134831</td>\n",
       "      <td>0.220149</td>\n",
       "    </tr>\n",
       "    <tr>\n",
       "      <th>2006-12-31</th>\n",
       "      <td>0.180982</td>\n",
       "      <td>0.240166</td>\n",
       "      <td>-0.007330</td>\n",
       "      <td>0.287129</td>\n",
       "      <td>0.948012</td>\n",
       "    </tr>\n",
       "    <tr>\n",
       "      <th>2007-12-31</th>\n",
       "      <td>-0.135065</td>\n",
       "      <td>-0.138564</td>\n",
       "      <td>0.222574</td>\n",
       "      <td>0.553846</td>\n",
       "      <td>-0.281005</td>\n",
       "    </tr>\n",
       "    <tr>\n",
       "      <th>2008-12-31</th>\n",
       "      <td>-0.039039</td>\n",
       "      <td>0.125969</td>\n",
       "      <td>-0.067299</td>\n",
       "      <td>0.306931</td>\n",
       "      <td>0.237991</td>\n",
       "    </tr>\n",
       "    <tr>\n",
       "      <th>2009-12-31</th>\n",
       "      <td>0.540625</td>\n",
       "      <td>-0.383821</td>\n",
       "      <td>-0.444958</td>\n",
       "      <td>-0.560606</td>\n",
       "      <td>-0.580247</td>\n",
       "    </tr>\n",
       "    <tr>\n",
       "      <th>2010-12-31</th>\n",
       "      <td>-0.413793</td>\n",
       "      <td>-0.251397</td>\n",
       "      <td>0.553333</td>\n",
       "      <td>-0.008621</td>\n",
       "      <td>0.508403</td>\n",
       "    </tr>\n",
       "    <tr>\n",
       "      <th>2011-12-31</th>\n",
       "      <td>-0.162630</td>\n",
       "      <td>-0.492537</td>\n",
       "      <td>-0.512876</td>\n",
       "      <td>0.452174</td>\n",
       "      <td>0.114206</td>\n",
       "    </tr>\n",
       "    <tr>\n",
       "      <th>2012-12-31</th>\n",
       "      <td>-0.132231</td>\n",
       "      <td>-0.735294</td>\n",
       "      <td>-0.215859</td>\n",
       "      <td>0.736527</td>\n",
       "      <td>0.127500</td>\n",
       "    </tr>\n",
       "    <tr>\n",
       "      <th>2013-12-31</th>\n",
       "      <td>0.414286</td>\n",
       "      <td>-0.083333</td>\n",
       "      <td>0.359551</td>\n",
       "      <td>0.082759</td>\n",
       "      <td>-0.048780</td>\n",
       "    </tr>\n",
       "    <tr>\n",
       "      <th>2014-12-31</th>\n",
       "      <td>-0.272727</td>\n",
       "      <td>-0.696970</td>\n",
       "      <td>-0.409091</td>\n",
       "      <td>0.168790</td>\n",
       "      <td>-0.317016</td>\n",
       "    </tr>\n",
       "    <tr>\n",
       "      <th>2015-12-31</th>\n",
       "      <td>-0.680556</td>\n",
       "      <td>-0.400000</td>\n",
       "      <td>-0.489510</td>\n",
       "      <td>-0.752044</td>\n",
       "      <td>-0.552901</td>\n",
       "    </tr>\n",
       "    <tr>\n",
       "      <th>2016-12-31</th>\n",
       "      <td>-0.753623</td>\n",
       "      <td>-0.500000</td>\n",
       "      <td>-0.493151</td>\n",
       "      <td>-0.758242</td>\n",
       "      <td>-0.641221</td>\n",
       "    </tr>\n",
       "    <tr>\n",
       "      <th>2017-12-31</th>\n",
       "      <td>-0.058824</td>\n",
       "      <td>0.333333</td>\n",
       "      <td>0.067568</td>\n",
       "      <td>-0.272727</td>\n",
       "      <td>0.595745</td>\n",
       "    </tr>\n",
       "    <tr>\n",
       "      <th>2018-12-31</th>\n",
       "      <td>1.187500</td>\n",
       "      <td>0.000000</td>\n",
       "      <td>0.215190</td>\n",
       "      <td>-0.250000</td>\n",
       "      <td>0.453333</td>\n",
       "    </tr>\n",
       "    <tr>\n",
       "      <th>2019-12-31</th>\n",
       "      <td>-0.085714</td>\n",
       "      <td>0.500000</td>\n",
       "      <td>0.062500</td>\n",
       "      <td>0.000000</td>\n",
       "      <td>-0.091743</td>\n",
       "    </tr>\n",
       "    <tr>\n",
       "      <th>2020-12-31</th>\n",
       "      <td>-0.625000</td>\n",
       "      <td>0.000000</td>\n",
       "      <td>-0.754902</td>\n",
       "      <td>0.000000</td>\n",
       "      <td>-0.444444</td>\n",
       "    </tr>\n",
       "    <tr>\n",
       "      <th>2021-12-31</th>\n",
       "      <td>2.166667</td>\n",
       "      <td>0.000000</td>\n",
       "      <td>2.000000</td>\n",
       "      <td>0.000000</td>\n",
       "      <td>0.727273</td>\n",
       "    </tr>\n",
       "  </tbody>\n",
       "</table>\n",
       "</div>"
      ],
      "text/plain": [
       "county                Forest   Indiana    McKean   Venango    Warren\n",
       "permit_issued_date                                                  \n",
       "1969-12-31               NaN       NaN       NaN       NaN       NaN\n",
       "1970-12-31          1.657143  0.082192 -0.176264  0.675978  0.162095\n",
       "1971-12-31         -0.252688  0.139241 -0.420290  0.513333  0.341202\n",
       "1972-12-31          0.323741  0.461111  1.236765  0.240088 -0.444800\n",
       "1973-12-31         -0.048913  0.787072 -0.240631  0.515098  0.691643\n",
       "1974-12-31         -0.005714 -0.144681  0.012987 -0.483001  0.037479\n",
       "1975-12-31          0.419540  0.089552 -0.000855  0.126984 -0.492611\n",
       "1976-12-31         -0.255061 -0.283105  0.310522  0.637827  0.362460\n",
       "1977-12-31          1.201087  0.359873 -0.473890 -0.296069  0.380048\n",
       "1978-12-31         -0.101235  0.259953  1.038462  0.378709 -0.017212\n",
       "1979-12-31         -0.032967  0.165428 -0.445526  0.227848  0.316988\n",
       "1980-12-31          1.144886  0.062201  0.265642  1.184536  0.469415\n",
       "1981-12-31          0.068874  0.136637  0.047702  0.074092  0.596380\n",
       "1982-12-31         -0.272615 -0.229855  0.022351  0.065466  0.003968\n",
       "1983-12-31         -0.248722 -0.373928 -0.484211 -0.074227  0.050819\n",
       "1984-12-31          0.385488  0.854795  1.861852  0.792873  0.463192\n",
       "1985-12-31         -0.292962 -0.389956 -0.659353 -0.642733 -0.298201\n",
       "1986-12-31         -0.870370 -0.283293  0.008052 -0.813630 -0.744636\n",
       "1987-12-31         -0.357143 -0.361486 -0.630990 -0.093284 -0.227459\n",
       "1988-12-31         -0.805556 -0.179894  0.341991 -0.263374  0.244032\n",
       "1989-12-31         -0.285714  0.303226 -0.567742  0.050279 -0.417910\n",
       "1990-12-31          0.600000 -0.198020  0.000000 -0.382979  0.377289\n",
       "1991-12-31          1.500000  0.160494 -0.574627 -0.189655 -0.287234\n",
       "1992-12-31         -0.250000  0.101064 -0.017544 -0.297872 -0.201493\n",
       "1993-12-31          4.933333 -0.275362  0.589286 -0.181818 -0.275701\n",
       "1994-12-31         -0.696629  0.800000  0.415730  1.870370 -0.245161\n",
       "1995-12-31          0.555556 -0.296296  0.000000 -0.722581  0.256410\n",
       "1996-12-31          1.642857  0.536842  0.515873 -0.093023  0.176871\n",
       "1997-12-31         -0.099099 -0.167808 -0.026178  0.153846  0.352601\n",
       "1998-12-31          0.420000 -0.197531  0.258065  0.822222 -0.380342\n",
       "1999-12-31         -0.492958  0.082051  0.042735 -0.365854 -0.103448\n",
       "2000-12-31          0.069444 -0.094787  1.106557  0.038462  0.323077\n",
       "2001-12-31          0.480519  0.340314 -0.274319  0.092593  0.319767\n",
       "2002-12-31         -0.236842  0.007812  0.273458  0.423729 -0.158590\n",
       "2003-12-31          0.735632  0.290698  0.109474  0.071429  0.015707\n",
       "2004-12-31          0.735099  0.270270  0.381404 -0.011111  0.381443\n",
       "2005-12-31          0.244275  0.141844  0.311813  0.134831  0.220149\n",
       "2006-12-31          0.180982  0.240166 -0.007330  0.287129  0.948012\n",
       "2007-12-31         -0.135065 -0.138564  0.222574  0.553846 -0.281005\n",
       "2008-12-31         -0.039039  0.125969 -0.067299  0.306931  0.237991\n",
       "2009-12-31          0.540625 -0.383821 -0.444958 -0.560606 -0.580247\n",
       "2010-12-31         -0.413793 -0.251397  0.553333 -0.008621  0.508403\n",
       "2011-12-31         -0.162630 -0.492537 -0.512876  0.452174  0.114206\n",
       "2012-12-31         -0.132231 -0.735294 -0.215859  0.736527  0.127500\n",
       "2013-12-31          0.414286 -0.083333  0.359551  0.082759 -0.048780\n",
       "2014-12-31         -0.272727 -0.696970 -0.409091  0.168790 -0.317016\n",
       "2015-12-31         -0.680556 -0.400000 -0.489510 -0.752044 -0.552901\n",
       "2016-12-31         -0.753623 -0.500000 -0.493151 -0.758242 -0.641221\n",
       "2017-12-31         -0.058824  0.333333  0.067568 -0.272727  0.595745\n",
       "2018-12-31          1.187500  0.000000  0.215190 -0.250000  0.453333\n",
       "2019-12-31         -0.085714  0.500000  0.062500  0.000000 -0.091743\n",
       "2020-12-31         -0.625000  0.000000 -0.754902  0.000000 -0.444444\n",
       "2021-12-31          2.166667  0.000000  2.000000  0.000000  0.727273"
      ]
     },
     "execution_count": 201,
     "metadata": {},
     "output_type": "execute_result"
    }
   ],
   "source": [
    "new_top5.resample('Y', on='permit_issued_date').county.value_counts().unstack().pct_change()\n",
    "#-0.298201, but the year after is -0.744636 --> i feel like I'm not reading something right here?\n",
    "# QUESTION ^"
   ]
  },
  {
   "cell_type": "markdown",
   "id": "4f35a066",
   "metadata": {},
   "source": [
    "### Step two: Writing\n",
    "\n",
    "But can you turn it into a sentence? Something like...\n",
    "\n",
    "> after an increase in permits of [blank] percent just two years prior, 1986 saw Warren's new permits plummet a staggering [blank] percent"
   ]
  },
  {
   "cell_type": "code",
   "execution_count": null,
   "id": "9ad2ea47",
   "metadata": {},
   "outputs": [],
   "source": []
  },
  {
   "cell_type": "markdown",
   "id": "598923f4",
   "metadata": {},
   "source": [
    "# Now let's relax a little bit\n",
    "\n",
    "## Does the government issue permits on the weekends?\n",
    "\n",
    "To answer this question, calculate the percent of permits are issued on Saturday and Sunday. We know how to get the month and the year and the day of the month from a datetime, but how do you get the day of the week..?"
   ]
  },
  {
   "cell_type": "code",
   "execution_count": 189,
   "id": "8ab395e7",
   "metadata": {},
   "outputs": [
    {
     "data": {
      "text/plain": [
       "0    0.180660\n",
       "1    0.205840\n",
       "2    0.215018\n",
       "3    0.199797\n",
       "4    0.190059\n",
       "5    0.005662\n",
       "6    0.002965\n",
       "Name: permit_issued_date, dtype: float64"
      ]
     },
     "execution_count": 189,
     "metadata": {},
     "output_type": "execute_result"
    }
   ],
   "source": [
    "#df.permit_issued_date.dt.day.sort_index()\n",
    "df.permit_issued_date.dt.dayofweek.value_counts().sort_index()\n",
    "#The day of the week with Monday=0, Sunday=6.\n",
    "#https://pandas.pydata.org/docs/reference/api/pandas.Series.dt.dayofweek.html#pandas.Series.dt.dayofweek\n",
    "df.permit_issued_date.dt.dayofweek.value_counts(normalize=True).sort_index()\n",
    "#df['Guard_or_Trained'].value_counts(normalize=True, dropna=True)\n"
   ]
  },
  {
   "cell_type": "code",
   "execution_count": 190,
   "id": "afc0c83f",
   "metadata": {},
   "outputs": [
    {
     "data": {
      "text/plain": [
       "0.8627000000000001"
      ]
     },
     "execution_count": 190,
     "metadata": {},
     "output_type": "execute_result"
    }
   ],
   "source": [
    "(0.005662 + 0.002965)*100"
   ]
  },
  {
   "cell_type": "code",
   "execution_count": null,
   "id": "4a2b74e8",
   "metadata": {},
   "outputs": [],
   "source": [
    "#Less than 1% of well permits are issued over the weekend."
   ]
  }
 ],
 "metadata": {
  "kernelspec": {
   "display_name": "Python 3 (ipykernel)",
   "language": "python",
   "name": "python3"
  },
  "language_info": {
   "codemirror_mode": {
    "name": "ipython",
    "version": 3
   },
   "file_extension": ".py",
   "mimetype": "text/x-python",
   "name": "python",
   "nbconvert_exporter": "python",
   "pygments_lexer": "ipython3",
   "version": "3.10.0"
  }
 },
 "nbformat": 4,
 "nbformat_minor": 5
}
